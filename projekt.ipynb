{
  "nbformat": 4,
  "nbformat_minor": 0,
  "metadata": {
    "colab": {
      "provenance": []
    },
    "kernelspec": {
      "name": "python3",
      "display_name": "Python 3"
    },
    "language_info": {
      "name": "python"
    }
  },
  "cells": [
    {
      "cell_type": "markdown",
      "source": [
        "**Sekcja 1: Importowanie bibliotek**\n",
        "\n",
        "W tej sekcji importowane są różne biblioteki, takie jak pandas, sklearn, PyQt5, numpy i sys, które będą używane w dalszej części kodu.\n",
        "\n",
        "* **pandas** - Biblioteka służąca do manipulacji i analizy danych, umożliwiająca operacje na ramkach danych.\n",
        "\n",
        "* **sklearn.model_selection.train_test_split** - Funkcja do podziału zbioru danych na zestawy treningowy i testowy.\n",
        "\n",
        "* **sklearn.ensemble.RandomForestClassifier** -  Klasa implementująca algorytm lasów losowych do klasyfikacji.\n",
        "\n",
        "* **sklearn.preprocessing.OrdinalEncoder**, **LabelEncoder** - Klasa do kodowania zmiennych kategorycznych w formie liczbowej.\n",
        "\n",
        "* **sklearn.metrics.classification_report**, **confusion_matrix** - Funkcje do generowania raportu klasyfikacji oraz macierzy pomyłek dla modelu klasyfikacji.\n",
        "\n",
        "* **PyQt5** - Biblioteka do tworzenia interfejsów graficznych w języku Python.\n",
        "\n",
        "* **numpy** - Biblioteka do operacji na macierzach i wektorach.\n",
        "\n",
        "* **sys** - Biblioteka umożliwiająca dostęp do funkcji specyficznych dla interpretera Pythona.\n"
      ],
      "metadata": {
        "id": "_BzfS0_Hu85d"
      }
    },
    {
      "cell_type": "code",
      "execution_count": null,
      "metadata": {
        "id": "mnMAl6M2eovg"
      },
      "outputs": [],
      "source": [
        "import pandas as pd\n",
        "from sklearn.model_selection import train_test_split\n",
        "from sklearn.ensemble import RandomForestClassifier\n",
        "from sklearn.preprocessing import OrdinalEncoder, LabelEncoder\n",
        "from sklearn.metrics import classification_report, confusion_matrix\n",
        "\n",
        "from PyQt5.QtWidgets import QComboBox, QMainWindow, QApplication, QWidget, QVBoxLayout, QLineEdit, QPushButton, QDialog, QLabel, QMessageBox, QFileDialog, QLabel, QMessageBox\n",
        "from PyQt5.QtGui import QIcon, QIntValidator, QRegExpValidator, QDoubleValidator\n",
        "from PyQt5.QtCore import QRegExp, pyqtSlot\n",
        "\n",
        "import numpy as np\n",
        "import sys"
      ]
    },
    {
      "cell_type": "markdown",
      "source": [
        "\n",
        "**Sekcja 2: Definicja klasy MultiColumnLabelEncoder oraz jej metod**\n",
        "\n",
        "\n",
        "Klasa **MultiColumnLabelEncoder** jest zaprojektowana do obsługi kodowania wielu kolumn w ramce danych przy użyciu obiektów LabelEncoder. Jest to przydatne, gdy chcemy przekształcić dane kategoryczne na dane numeryczne."
      ],
      "metadata": {
        "id": "1vc7Yxo5u8AB"
      }
    },
    {
      "cell_type": "markdown",
      "source": [
        "Definicja klasy i jej konstruktor:"
      ],
      "metadata": {
        "id": "Bq0DYF2HxKMC"
      }
    },
    {
      "cell_type": "code",
      "source": [
        "class MultiColumnLabelEncoder:\n",
        "    def __init__(self, columns):\n",
        "        self.columns = columns  # array of column names to encode\n",
        "        # ['Gender', 'Married', 'Dependents', 'Education', 'Self_Employed', 'Property_Area']\n",
        "        self.gender_enc = LabelEncoder()\n",
        "        self.married_enc = LabelEncoder()\n",
        "        self.dependents_enc = LabelEncoder()\n",
        "        self.education_enc = LabelEncoder()\n",
        "        self.self_employed_enc = LabelEncoder()\n",
        "        self.property_enc = LabelEncoder()\n",
        "        self.name_map = {'Gender': self.gender_enc, 'Married': self.married_enc, 'Dependents': self.dependents_enc,\n",
        "                         'Education': self.education_enc, 'Self_Employed': self.self_employed_enc, 'Property_Area': self.property_enc}\n"
      ],
      "metadata": {
        "id": "0i-ymwF8xNCD"
      },
      "execution_count": null,
      "outputs": []
    },
    {
      "cell_type": "markdown",
      "source": [
        "* **columns** -  Lista nazw kolumn, które zostaną zakodowane.\n",
        "* Dla każdej kolumny tworzony jest osobny obiekt LabelEncoder.\n",
        "* **name_map** -  Słownik łączący nazwy kolumn z odpowiadającymi im obiektami LabelEncoder."
      ],
      "metadata": {
        "id": "0lWS4MDOxw46"
      }
    },
    {
      "cell_type": "markdown",
      "source": [
        "**Metoda fit:**"
      ],
      "metadata": {
        "id": "xvVc97RryVAx"
      }
    },
    {
      "cell_type": "code",
      "source": [
        "    def fit(self, X):\n",
        "        if self.columns is not None:\n",
        "            for col in self.columns:\n",
        "                self.name_map[col].fit(X[col])"
      ],
      "metadata": {
        "id": "4kuZM14YyccE"
      },
      "execution_count": null,
      "outputs": []
    },
    {
      "cell_type": "markdown",
      "source": [
        "* Metoda dopasowuje obiekty LabelEncoder do danych w każdej z kolumn."
      ],
      "metadata": {
        "id": "p6jAu4SoyfJu"
      }
    },
    {
      "cell_type": "markdown",
      "source": [
        "**Metoda transform:**"
      ],
      "metadata": {
        "id": "bQh_ilURyh0r"
      }
    },
    {
      "cell_type": "code",
      "source": [
        "    def transform(self, X):\n",
        "        output = X.copy()\n",
        "        if self.columns is not None:\n",
        "            for col in self.columns:\n",
        "                output[col] = self.name_map[col].transform(output[col])\n",
        "        return output"
      ],
      "metadata": {
        "id": "HmiMlnb6ynoE"
      },
      "execution_count": null,
      "outputs": []
    },
    {
      "cell_type": "markdown",
      "source": [
        "* Metoda przekształca dane w kolumnach, używając wcześniej dopasowanych obiektów LabelEncoder."
      ],
      "metadata": {
        "id": "o-nbtUnTytwP"
      }
    },
    {
      "cell_type": "markdown",
      "source": [
        "**Metoda fit_transform:**"
      ],
      "metadata": {
        "id": "giutbQU8yxVi"
      }
    },
    {
      "cell_type": "code",
      "source": [
        "    def fit_transform(self, X):\n",
        "        self.fit(X)\n",
        "        return self.transform(X)"
      ],
      "metadata": {
        "id": "JbwbbcZwyzoD"
      },
      "execution_count": null,
      "outputs": []
    },
    {
      "cell_type": "markdown",
      "source": [
        "* Metoda wykonuje jednoczesne dopasowanie i transformację danych."
      ],
      "metadata": {
        "id": "fdYf3SHcy2YD"
      }
    },
    {
      "cell_type": "markdown",
      "source": [
        "**Sekcja 3: Wczytywanie i przetwarzanie danych:**"
      ],
      "metadata": {
        "id": "r23WdQOrzFhA"
      }
    },
    {
      "cell_type": "code",
      "source": [
        "df = pd.read_csv(\"loan-train.csv\")\n",
        "df = df.drop(columns=[\"Loan_ID\"])\n",
        "df = df[df[['Gender', 'Married', 'Dependents', 'Self_Employed',\n",
        "        'LoanAmount', 'Loan_Amount_Term', 'Credit_History']].notnull().all(1)]"
      ],
      "metadata": {
        "id": "BCSdsUg-zI3M"
      },
      "execution_count": null,
      "outputs": []
    },
    {
      "cell_type": "markdown",
      "source": [
        "* **pd.read_csv(\"loan-train.csv\")**: Wczytuje dane z pliku CSV do ramki danych df.\n",
        "\n",
        "* **df.drop(columns=[\"Loan_ID\"])**: Usuwa kolumnę \"Loan_ID\" ze zbioru danych.\n",
        "\n",
        "* **df[['Gender', 'Married', ...]].notnull().all(1)**: Tworzy maskę, która zwraca True tylko dla wierszy, które nie zawierają brakujących wartości w określonych kolumnach.\n",
        "\n",
        "* **df[df[...].notnull().all(1)]**: Wybiera wiersze, które spełniają warunek braku brakujących wartości."
      ],
      "metadata": {
        "id": "iFo2yOMi0ZoY"
      }
    },
    {
      "cell_type": "markdown",
      "source": [
        "**Przetwarzanie danych przy użyciu MultiColumnLabelEncoder**"
      ],
      "metadata": {
        "id": "FI5yCFIQ1Fj2"
      }
    },
    {
      "cell_type": "code",
      "source": [
        "X = df[df.columns[:-1]]\n",
        "enc = MultiColumnLabelEncoder(columns=[\n",
        "                              'Gender', 'Married', 'Dependents', 'Education', 'Self_Employed', 'Property_Area'])\n",
        "X = enc.fit_transform(X)\n",
        "y = df[df.columns[-1]]"
      ],
      "metadata": {
        "id": "MwjrgMyq_oGG"
      },
      "execution_count": null,
      "outputs": []
    },
    {
      "cell_type": "markdown",
      "source": [
        "* **df[df.columns[:-1]]** - Wybiera wszystkie kolumny oprócz ostatniej jako cechy (X).\n",
        "* **df[df.columns[-1]]** - Wybiera ostatnią kolumnę jako etykietę (y).\n",
        "* **MultiColumnLabelEncoder(columns=[...])** - Utworzenie instancji klasy **MultiColumnLabelEncoder** z określonymi kolumnami do zakodowania.\n",
        "* **enc.fit_transform(X)**: Dopasowanie i transformacja danych za pomocą klasy MultiColumnLabelEncoder."
      ],
      "metadata": {
        "id": "Vs65ivu__T3l"
      }
    },
    {
      "cell_type": "code",
      "source": [
        "Podział danych na zestawy treningowy i testowy, uczenie modelu i ewaluacja"
      ],
      "metadata": {
        "id": "7Hd5KOf6Aum9"
      },
      "execution_count": null,
      "outputs": []
    },
    {
      "cell_type": "code",
      "source": [
        "X_train, X_test, y_train, y_test = train_test_split(X, y, test_size=0.2)\n",
        "\n",
        "classifier = RandomForestClassifier()\n",
        "classifier.fit(X_train, y_train)\n",
        "y_pred = classifier.predict(X_test)\n",
        "\n",
        "print(classification_report(y_test, y_pred))\n",
        "cm = confusion_matrix(y_test, y_pred)\n",
        "print(f\"Confusion matrix: {cm}\")\n",
        "print(f\"Cross validation: {classifier.score(X_test, y_test)}\")"
      ],
      "metadata": {
        "id": "TjP7IgN2Axm0"
      },
      "execution_count": null,
      "outputs": []
    },
    {
      "cell_type": "markdown",
      "source": [
        "* **train_test_split(X, y, test_size=0.2)** - Dzieli dane na zestawy treningowy i testowy.\n",
        "\n",
        "* **RandomForestClassifier()** - Utworzenie instancji klasyfikatora lasu losowego.\n",
        "\n",
        "* **classifier.fit(X_train, y_train)** - Trening modelu na danych treningowych.\n",
        "\n",
        "* **classifier.predict(X_test)** - Predykcje na danych testowych.\n",
        "\n",
        "* **classification_report(y_test, y_pred)** - Generuje raport klasyfikacyjny dla modelu.\n",
        "\n",
        "* **confusion_matrix(y_test, y_pred)** - Tworzy macierz pomyłek dla modelu.\n",
        "\n",
        "* **classifier.score(X_test, y_test)** - Oblicza dokładność modelu na danych testowych."
      ],
      "metadata": {
        "id": "68NEb0fBA17t"
      }
    },
    {
      "cell_type": "markdown",
      "source": [
        "**Sekcja 4: Główne okno aplikacji**"
      ],
      "metadata": {
        "id": "WH185h0aBjGQ"
      }
    },
    {
      "cell_type": "markdown",
      "source": [
        "Klasa MainWindow"
      ],
      "metadata": {
        "id": "5NsO0LLQBwi2"
      }
    },
    {
      "cell_type": "markdown",
      "source": [
        "Klasa MainWindow definiuje główne okno aplikacji. Tworzy interfejs użytkownika za pomocą biblioteki PyQt5, który umożliwia użytkownikowi wprowadzanie danych i wykonanie pewnych akcji. Klasa MainWindow definiuje kompletny interfejs użytkownika, umożliwiający wprowadzanie danych, obliczenia oraz eksport danych do pliku CSV. Każdy element interfejsu jest odpowiednio skonfigurowany, a funkcje obsługi zdarzeń są podpięte do przycisków, aby uruchamiać określone akcje."
      ],
      "metadata": {
        "id": "Sdw96wofB0S_"
      }
    },
    {
      "cell_type": "code",
      "source": [
        "class MainWindow(QMainWindow):\n",
        "\n",
        "    def __init__(self):\n",
        "        super().__init__()\n",
        "\n",
        "        lbl_gender = QLabel('Gender')\n",
        "        lbl_married = QLabel('Married')\n",
        "        lbl_dependents = QLabel('Dependents')\n",
        "        lbl_education = QLabel('Education')\n",
        "        lbl_self_employed = QLabel('Self employed')\n",
        "        lbl_applicant_income = QLabel('Applicant income')\n",
        "        lbl_coapplicant_income = QLabel('Coapplicant income')\n",
        "        lbl_loan_amount = QLabel('Loan amount')\n",
        "        lbl_loan_term = QLabel('Loan amount term')\n",
        "        lbl_credit_history = QLabel('Credit history')\n",
        "        lbl_area = QLabel('Property area')\n",
        "\n",
        "\n",
        "        self.cb_gender = QComboBox()\n",
        "        self.cb_gender.addItems(['Male', 'Female'])\n",
        "\n",
        "        self.cb_married = QComboBox()\n",
        "        self.cb_married.addItems(['Yes', 'No'])\n",
        "\n",
        "        self.cb_dependents = QComboBox()\n",
        "        self.cb_dependents.addItems(['0', '1', '2', '3+'])\n",
        "\n",
        "        self.cb_education = QComboBox()\n",
        "        self.cb_education.addItems(['Graduate', 'Not Graduate'])\n",
        "\n",
        "        self.cb_self_employed = QComboBox()\n",
        "        self.cb_self_employed.addItems(['Yes', 'No'])\n",
        "\n",
        "        self.le_applicant_income = QLineEdit()\n",
        "        self.le_applicant_income.setValidator(QIntValidator())\n",
        "        self.le_applicant_income.setPlaceholderText(\"4583\")\n",
        "\n",
        "        self.le_coapplicant_income = QLineEdit()\n",
        "        self.le_coapplicant_income.setValidator(QDoubleValidator())\n",
        "        self.le_coapplicant_income.setPlaceholderText(\"1508.0\")\n",
        "\n",
        "        self.le_loan_amount = QLineEdit()\n",
        "        self.le_loan_amount.setValidator(QDoubleValidator())\n",
        "        self.le_loan_amount.setPlaceholderText(\"128.0\")\n",
        "\n",
        "        self.exp_loan_term = QRegExp(\n",
        "            \"^(360.|120.|180.|60.|300.|480.|240.|36.|84.)$\")\n",
        "        self.le_loan_term = QLineEdit()\n",
        "        self.le_loan_term.setValidator(QRegExpValidator(self.exp_loan_term))\n",
        "        self.le_loan_term.setPlaceholderText(\"360.\")\n",
        "\n",
        "        self.exp_credit_history = QRegExp(\"^(1.|0.)$\")\n",
        "        self.le_credit_history = QLineEdit()\n",
        "        self.le_credit_history.setValidator(\n",
        "            QRegExpValidator(self.exp_credit_history))\n",
        "        self.le_credit_history.setPlaceholderText(\"1.\")\n",
        "\n",
        "        self.cb_area = QComboBox()\n",
        "        self.cb_area.addItems(['Rural', 'Urban', 'Semiurban'])\n",
        "\n",
        "        btn_calculate = QPushButton('Calculate')\n",
        "        btn_calculate.clicked.connect(self.on_click)\n",
        "\n",
        "        btn_export_to_csv = QPushButton('Export CSV')\n",
        "        btn_export_to_csv.clicked.connect(self.export_csv)\n",
        "\n",
        "\n",
        "        layout = QVBoxLayout()\n",
        "        layout.addWidget(lbl_gender)\n",
        "        layout.addWidget(self.cb_gender)\n",
        "        layout.addWidget(lbl_married)\n",
        "        layout.addWidget(self.cb_married)\n",
        "        layout.addWidget(lbl_dependents)\n",
        "        layout.addWidget(self.cb_dependents)\n",
        "        layout.addWidget(lbl_education)\n",
        "        layout.addWidget(self.cb_education)\n",
        "        layout.addWidget(lbl_self_employed)\n",
        "        layout.addWidget(self.cb_self_employed)\n",
        "        layout.addWidget(lbl_applicant_income)\n",
        "        layout.addWidget(self.le_applicant_income)\n",
        "        layout.addWidget(lbl_coapplicant_income)\n",
        "        layout.addWidget(self.le_coapplicant_income)\n",
        "        layout.addWidget(lbl_loan_amount)\n",
        "        layout.addWidget(self.le_loan_amount)\n",
        "        layout.addWidget(lbl_loan_term)\n",
        "        layout.addWidget(self.le_loan_term)\n",
        "        layout.addWidget(lbl_credit_history)\n",
        "        layout.addWidget(self.le_credit_history)\n",
        "        layout.addWidget(lbl_area)\n",
        "        layout.addWidget(self.cb_area)\n",
        "        layout.addWidget(btn_calculate)\n",
        "        layout.addWidget(btn_export_to_csv)\n",
        "\n",
        "        container = QWidget()\n",
        "        container.setLayout(layout)\n",
        "\n",
        "        self.setCentralWidget(container)"
      ],
      "metadata": {
        "id": "DdFPcWDdB5g1"
      },
      "execution_count": null,
      "outputs": []
    },
    {
      "cell_type": "markdown",
      "source": [
        "* **QLabel** - Tworzy etykiety dla pól wejściowych.\n",
        "* **QComboBox** - Tworzy rozwijalne listy (combobox) dla pól wejściowych.\n",
        "* **QLineEdit** - Tworzy pola wejściowe, z odpowiednimi walidatorami dla wartości liczbowych.\n",
        "* **QPushButton** - Tworzy przyciski, a następnie łączy je z odpowiednimi funkcjami obsługi zdarzeń (slotami)."
      ],
      "metadata": {
        "id": "PRuCS_p8B_mD"
      }
    },
    {
      "cell_type": "markdown",
      "source": [
        "**Układ interfejsu:**"
      ],
      "metadata": {
        "id": "dqMSyFYxCBAb"
      }
    },
    {
      "cell_type": "markdown",
      "source": [
        "* **QVBoxLayout** - Tworzy pionowy układ, w którym umieszczane są wszystkie elementy interfejsu.\n",
        "* **QWidget** - Tworzy kontener, w którym umieszczony jest układ pionowy."
      ],
      "metadata": {
        "id": "A1PmxRhnCEl4"
      }
    },
    {
      "cell_type": "markdown",
      "source": [
        "**Funkcje obsługi zdarzeń:**"
      ],
      "metadata": {
        "id": "pjl_HrzaCGIF"
      }
    },
    {
      "cell_type": "markdown",
      "source": [
        "* **on_click** - Funkcja obsługująca zdarzenie kliknięcia przycisku \"Calculate\".\n",
        "* **export_csv** -  Funkcja obsługująca zdarzenie kliknięcia przycisku \"Export CSV\"."
      ],
      "metadata": {
        "id": "FIvpKRC3CHwr"
      }
    },
    {
      "cell_type": "markdown",
      "source": [
        "**Funkcja obsługi zdarzeń on_click**"
      ],
      "metadata": {
        "id": "pOAKsgOxDzNA"
      }
    },
    {
      "cell_type": "markdown",
      "source": [
        "Metoda on_click została oznaczona dekoratorem @pyqtSlot(), co wskazuje, że jest to funkcja obsługująca zdarzenia, która może być wywoływana w odpowiedzi na interakcję użytkownika."
      ],
      "metadata": {
        "id": "LvQuJ4xKD1Md"
      }
    },
    {
      "cell_type": "markdown",
      "source": [],
      "metadata": {
        "id": "QEY6uAw-ECFW"
      }
    },
    {
      "cell_type": "code",
      "source": [
        "@pyqtSlot()\n",
        "    def on_click(self):\n",
        "        if not self.exp_loan_term.exactMatch(self.le_loan_term.text()) or not self.exp_credit_history.exactMatch(self.le_credit_history.text()):\n",
        "            print(\"Value does not match the regex!\")\n",
        "            return"
      ],
      "metadata": {
        "id": "ohXe9QcRD5JC"
      },
      "execution_count": null,
      "outputs": []
    },
    {
      "cell_type": "markdown",
      "source": [
        "* **self.exp_loan_term.exactMatch(self.le_loan_term.text())** - Sprawdza, czy wartość w polu le_loan_term pasuje do określonego wyrażenia regularnego dla okresu kredytu.\n",
        "* **self.exp_credit_history.exactMatch(self.le_credit_history.text())** - Sprawdza, czy wartość w polu le_credit_history pasuje do określonego wyrażenia regularnego dla historii kredytowej.\n",
        "Jeśli któreś z pól nie pasuje do wyrażenia regularnego, zostanie wypisane ostrzeżenie."
      ],
      "metadata": {
        "id": "Cdm0Uj77D7oe"
      }
    },
    {
      "cell_type": "markdown",
      "source": [
        "**Sekcja 5: Tworzenie i Przekształcanie Ramki Danych**"
      ],
      "metadata": {
        "id": "mPugnxAxE27U"
      }
    },
    {
      "cell_type": "code",
      "source": [
        "        frame = pd.DataFrame.from_dict({\n",
        "            # str\n",
        "            \"Gender\":                  [str(self.cb_gender.currentText())],\n",
        "            'Married':                  [str(self.cb_married.currentText())],\n",
        "            'Dependents':               [str(self.cb_dependents.currentText())],\n",
        "            'Education':      [str(self.cb_education.currentText())],\n",
        "            'Self_Employed':        [str(self.cb_self_employed.currentText())],\n",
        "            # numpy.int64\n",
        "            'ApplicantIncome':      np.fromstring(self.le_applicant_income.text(), dtype=np.int64, sep=' '),\n",
        "            # numpy.float64\n",
        "            'CoapplicantIncome':    np.fromstring(self.le_coapplicant_income.text(), dtype=np.float64, sep=' '),\n",
        "            # numpy.float64\n",
        "            'LoanAmount':     np.fromstring(self.le_coapplicant_income.text(), dtype=np.float64, sep=' '),\n",
        "            # numpy.float64\n",
        "            'Loan_Amount_Term':  np.fromstring(self.le_loan_amount.text(), dtype=np.float64, sep=' '),\n",
        "            # numpy.float64\n",
        "            'Credit_History':    np.fromstring(self.le_credit_history.text(), dtype=np.float64, sep=' '),\n",
        "            'Property_Area': [str(self.cb_area.currentText())]\n",
        "        })\n",
        "        transformed_frame = enc.transform(frame)\n",
        "        predicted_value = classifier.predict(transformed_frame)\n",
        "        msg_box = QMessageBox(self)\n",
        "        if predicted_value[0] == 'Y':\n",
        "            msg_box.setText(\"Approved the loan application!\")\n",
        "        else:\n",
        "            msg_box.setText(\"Rejected the loan application!\")\n",
        "        msg_box.exec()"
      ],
      "metadata": {
        "id": "-csjQWsfFENx"
      },
      "execution_count": null,
      "outputs": []
    },
    {
      "cell_type": "markdown",
      "source": [
        "* **pd.DataFrame.from_dict(...)** - Tworzy ramkę danych na podstawie słownika, w którym klucze to nazwy kolumn, a wartości to listy danych.\n",
        "\n",
        "* Wartości w kolumnach są pobierane z różnych pól interfejsu użytkownika, takich jak rozwijalne listy, pola tekstowe itp.\n",
        "\n",
        "* **np.fromstring(...)** - Konwertuje tekst wprowadzony przez użytkownika na odpowiednie typy danych NumPy (np.int64, np.float64) za pomocą funkcji fromstring.\n",
        "\n",
        "* Utworzona ramka danych frame zostaje przekształcona przy użyciu wcześniej utworzonej klasy **MultiColumnLabelEncoder (enc.transform)**.\n",
        "\n",
        "* Model **RandomForestClassifier (classifier)** jest używany do przewidzenia wartości na podstawie przekształconej ramki danych.\n",
        "\n",
        "* Wynik predykcji jest wyświetlany za pomocą okna komunikatu **(QMessageBox)**. Jeśli wartość to 'Y', informuje o zatwierdzeniu wniosku o pożyczkę; w przeciwnym razie odrzuca go."
      ],
      "metadata": {
        "id": "BjL2qYRKFGsF"
      }
    },
    {
      "cell_type": "markdown",
      "source": [
        "**Sekcja 6: Funkcja Eksportu do Pliku CSV**\n"
      ],
      "metadata": {
        "id": "wBMMECyTFtpf"
      }
    },
    {
      "cell_type": "code",
      "source": [
        "    def export_csv(self):\n",
        "        options = QFileDialog.Options()\n",
        "        options |= QFileDialog.DontUseNativeDialog\n",
        "        fileName, _ = QFileDialog.getSaveFileName(self, \"Export CSV\", \"\", \"CSV Files (*.csv);;All Files (*)\", options=options)\n",
        "\n",
        "        if fileName:\n",
        "            frame = pd.DataFrame.from_dict({\n",
        "                # str\n",
        "                \"Gender\": [str(self.cb_gender.currentText())],\n",
        "                'Married': [str(self.cb_married.currentText())],\n",
        "                'Dependents': [str(self.cb_dependents.currentText())],\n",
        "                'Education': [str(self.cb_education.currentText())],\n",
        "                'Self_Employed': [str(self.cb_self_employed.currentText())],\n",
        "                # numpy.int64\n",
        "                'ApplicantIncome': np.fromstring(self.le_applicant_income.text(), dtype=np.int64, sep=' '),\n",
        "                # numpy.float64\n",
        "                'CoapplicantIncome': np.fromstring(self.le_coapplicant_income.text(), dtype=np.float64, sep=' '),\n",
        "                # numpy.float64\n",
        "                'LoanAmount': np.fromstring(self.le_coapplicant_income.text(), dtype=np.float64, sep=' '),\n",
        "                # numpy.float64\n",
        "                'Loan_Amount_Term': np.fromstring(self.le_loan_amount.text(), dtype=np.float64, sep=' '),\n",
        "                # numpy.float64\n",
        "                'Credit_History': np.fromstring(self.le_credit_history.text(), dtype=np.float64, sep=' '),\n",
        "                'Property_Area': [str(self.cb_area.currentText())]\n",
        "            })\n",
        "            transformed_frame = enc.transform(frame)\n",
        "            predicted_value = classifier.predict(transformed_frame)\n",
        "            frame['Loan_Status'] = predicted_value[0]\n",
        "            frame['Probability'] = classifier.predict_proba(transformed_frame)[:, 1]\n",
        "\n",
        "            frame.to_csv(fileName, index=False)\n",
        "            QMessageBox.information(self, \"Export CSV\", \"Data exported successfully!\")"
      ],
      "metadata": {
        "id": "Z5OxTEt4F0By"
      },
      "execution_count": null,
      "outputs": []
    },
    {
      "cell_type": "markdown",
      "source": [
        "* **QFileDialog.getSaveFileName** - Otwiera okno dialogowe, które pozwala użytkownikowi wybrać lokalizację i nazwę pliku do zapisu.\n",
        "\n",
        "* **pd.DataFrame.from_dict(...)** - Tworzy ramkę danych na podstawie słownika, który zawiera dane z pól interfejsu użytkownika.\n",
        "\n",
        "* **enc.transform** - Przekształca ramkę danych przy użyciu wcześniej utworzonej klasy **MultiColumnLabelEncoder**.\n",
        "\n",
        "* **classifier.predict** - Przewiduje wartość na podstawie przekształconej ramki danych przy użyciu modelu **RandomForestClassifier**.\n",
        "\n",
        "* Dodawanie dwóch nowych kolumn **(Loan_Status i Probability)** do ramki danych.\n",
        "\n",
        "* **frame.to_csv** - Zapisuje ramkę danych do pliku CSV na podanej ścieżce.\n",
        "\n",
        "* **QMessageBox.information** - Wyświetla informację o pomyślnym eksporcie danych."
      ],
      "metadata": {
        "id": "P7vd2FgJF2bx"
      }
    },
    {
      "cell_type": "markdown",
      "source": [
        "**Sekcja 7: Końcowa Część Kodu Aplikacji**"
      ],
      "metadata": {
        "id": "LPMWHrdtGyC4"
      }
    },
    {
      "cell_type": "code",
      "source": [
        "# Inicjalizacja obiektu aplikacji PyQt\n",
        "app = QApplication(sys.argv)\n",
        "\n",
        "# Utworzenie instancji głównego okna aplikacji\n",
        "w = MainWindow()\n",
        "\n",
        "# Wyświetlenie głównego okna\n",
        "w.show()\n",
        "\n",
        "# Uruchomienie pętli głównej aplikacji\n",
        "app.exec_()"
      ],
      "metadata": {
        "id": "CVyDm4qBGc4y"
      },
      "execution_count": null,
      "outputs": []
    },
    {
      "cell_type": "markdown",
      "source": [],
      "metadata": {
        "id": "8S3a8_uvGiiI"
      }
    },
    {
      "cell_type": "markdown",
      "source": [
        "* **QApplication(sys.argv)** - Inicjalizuje obiekt aplikacji PyQt, umożliwiając obsługę interfejsu graficznego.\n",
        "* **MainWindow()** - Tworzy instancję głównego okna aplikacji (w), które zostało wcześniej zdefiniowane w klasie MainWindow.\n",
        "* **w.show()** - Wyświetla główne okno aplikacji.\n",
        "* **app.exec_()** - Uruchamia pętlę główną aplikacji, umożliwiając interakcję z użytkownikiem. Funkcja ta zwraca kod zakończenia aplikacji po zamknięciu głównego okna."
      ],
      "metadata": {
        "id": "qrOK9d31Gj-u"
      }
    }
  ]
}